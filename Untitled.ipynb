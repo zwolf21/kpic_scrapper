{
 "cells": [
  {
   "cell_type": "code",
   "execution_count": 1,
   "metadata": {
    "collapsed": true
   },
   "outputs": [],
   "source": [
    "import pandas as pd"
   ]
  },
  {
   "cell_type": "markdown",
   "metadata": {},
   "source": [
    "df = pd.read_excel('KPIC.xlsx')\n",
    "df.계열분류 =  df.계열분류.fillna('')\n",
    "groupping = ['대분류', '중분류', '소분류','계열분류','성분명','원내/원외 처방구분']\n",
    "aggfunc = lambda arr: ', '.join(sorted(set(arr)))\n",
    "gf = df.groupby(groupping).agg({'제품명':aggfunc})\n",
    "gf.to_excel('pd2.xlsx')"
   ]
  },
  {
   "cell_type": "code",
   "execution_count": null,
   "metadata": {
    "collapsed": true
   },
   "outputs": [],
   "source": []
  }
 ],
 "metadata": {
  "kernelspec": {
   "display_name": "Python 3",
   "language": "python",
   "name": "python3"
  },
  "language_info": {
   "codemirror_mode": {
    "name": "ipython",
    "version": 3
   },
   "file_extension": ".py",
   "mimetype": "text/x-python",
   "name": "python",
   "nbconvert_exporter": "python",
   "pygments_lexer": "ipython3",
   "version": "3.4.4"
  }
 },
 "nbformat": 4,
 "nbformat_minor": 2
}
